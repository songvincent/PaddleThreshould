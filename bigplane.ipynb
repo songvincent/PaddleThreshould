{
 "cells": [
  {
   "cell_type": "code",
   "execution_count": 1,
   "metadata": {
    "id": "39B94B08F1044878996C29532C64E283",
    "scrolled": false
   },
   "outputs": [],
   "source": [
    "# # 查看当前挂载的数据集目录\n",
    "# !ls /home/aistudio/data/data1568/"
   ]
  },
  {
   "cell_type": "markdown",
   "metadata": {},
   "source": [
    "<h2>1-引入库</h2>"
   ]
  },
  {
   "cell_type": "code",
   "execution_count": 1,
   "metadata": {},
   "outputs": [],
   "source": [
    "import sys\n",
    "import numpy as np\n",
    "\n",
    "# import lr_utils\n",
    "import matplotlib.pyplot as plt\n",
    "\n",
    "import paddle\n",
    "import paddle.fluid as fluid\n",
    "\n",
    "%matplotlib inline"
   ]
  },
  {
   "cell_type": "markdown",
   "metadata": {},
   "source": [
    "<h2>2-数据预处理</h2>"
   ]
  },
  {
   "cell_type": "markdown",
   "metadata": {},
   "source": [
    "因为h5py在今天不好使，我就使用线下处理方式将h5py转换成npy<br/>\n",
    "因而可直接用numpy处理"
   ]
  },
  {
   "cell_type": "code",
   "execution_count": 2,
   "metadata": {},
   "outputs": [],
   "source": [
    "train_set_x_orig=np.load(\"/home/aistudio/data/data1568/traindata.npy\")\n",
    "train_set_y=np.load(\"/home/aistudio/data/data1568/trainlabel.npy\")\n",
    "test_set_x_orig=np.load(\"/home/aistudio/data/data1568/testdata.npy\")\n",
    "test_set_y=np.load(\"/home/aistudio/data/data1568/testlabel.npy\")"
   ]
  },
  {
   "cell_type": "code",
   "execution_count": 3,
   "metadata": {},
   "outputs": [
    {
     "name": "stdout",
     "output_type": "stream",
     "text": [
      "训练样本数: m_train = 5897\n",
      "测试样本数: m_test = 2000\n",
      "图片高度/宽度: num_px = 32\n",
      "图片大小: (32, 32, 3)\n",
      "train_set_x shape: (5897, 32, 32, 3)\n",
      "train_set_y shape: (5897, 1)\n",
      "test_set_x shape: (2000, 32, 32, 3)\n",
      "test_set_y shape: (2000, 1)\n"
     ]
    }
   ],
   "source": [
    "#效果检验\n",
    "m_train=train_set_x_orig.shape[0]\n",
    "m_test=test_set_x_orig.shape[0]\n",
    "num_px=train_set_x_orig.shape[1]\n",
    "\n",
    "print (\"训练样本数: m_train = \" + str(m_train))\n",
    "print (\"测试样本数: m_test = \" + str(m_test))\n",
    "print (\"图片高度/宽度: num_px = \" + str(num_px))\n",
    "print (\"图片大小: (\" + str(num_px) + \", \" + str(num_px) + \", 3)\")\n",
    "print (\"train_set_x shape: \" + str(train_set_x_orig.shape))\n",
    "print (\"train_set_y shape: \" + str(train_set_y.shape))\n",
    "print (\"test_set_x shape: \" + str(test_set_x_orig.shape))\n",
    "print (\"test_set_y shape: \" + str(test_set_y.shape))"
   ]
  },
  {
   "cell_type": "code",
   "execution_count": 4,
   "metadata": {},
   "outputs": [],
   "source": [
    "###因为paddlepaddle认识的数据是3*l*h的，所以需要进行数据格式转换\n",
    "###\n",
    "\n",
    "\n",
    "train_set_x = np.array(train_set_x_orig).reshape(m_train, 3, num_px, num_px).astype(np.float32)\n",
    "train_set_y = np.array(train_set_y).reshape(m_train, 1).astype(np.float32)\n",
    "test_set_x = np.array(test_set_x_orig).reshape(m_test, 3, num_px, num_px).astype(np.float32)\n",
    "test_set_y = np.array(test_set_y).reshape(m_test, 1).astype(np.float32)"
   ]
  },
  {
   "cell_type": "code",
   "execution_count": 5,
   "metadata": {},
   "outputs": [],
   "source": [
    "#归一化\n",
    "train_set_x=train_set_x/ 255.0 * 2.0 - 1.0\n",
    "\n",
    "test_set_x=test_set_x/ 255.0 * 2.0 - 1.0"
   ]
  },
  {
   "cell_type": "markdown",
   "metadata": {},
   "source": [
    "<h2>3-构造reader</h2>"
   ]
  },
  {
   "cell_type": "code",
   "execution_count": 6,
   "metadata": {},
   "outputs": [],
   "source": [
    "# 读取训练数据或测试数据\n",
    "def read_data(train_set_x,train_set_y,buffer_size):\n",
    " \n",
    "    def reader():\n",
    "     \n",
    "        for i in xrange(buffer_size):            \n",
    "            yield train_set_x[i,:], int(train_set_y[i])            \n",
    "    return reader\n"
   ]
  },
  {
   "cell_type": "markdown",
   "metadata": {},
   "source": [
    "<h2>4-使用卷积神经网络分类</h2>"
   ]
  },
  {
   "cell_type": "code",
   "execution_count": 7,
   "metadata": {},
   "outputs": [],
   "source": [
    "def convolutional_neural_network():\n",
    "    \"\"\"\n",
    "    定义卷积神经网络分类器：\n",
    "        输入的二维图像，经过两个卷积-池化层，使用以softmax为激活函数的全连接层作为输出层\n",
    "    Args:\n",
    "        img -- 输入的原始图像数据\n",
    "    Return:\n",
    "        predict -- 分类的结果\n",
    "    \"\"\"\n",
    "    img = fluid.layers.data(\n",
    "        name='img', shape =[3,32,32],dtype = 'float32')\n",
    "    \n",
    "    #第一个卷积层\n",
    "    \n",
    "#     hidden = fluid.nets.simple_img_conv_pool(input, num_filters, filter_size, pool_size, pool_stride, pool_padding=0)\n",
    "    hidden=fluid.nets.simple_img_conv_pool(\n",
    "    input=img,\n",
    "        num_filters=20,\n",
    "        filter_size=3,\n",
    "        pool_size=2,\n",
    "        pool_stride=1,\n",
    "        pool_padding=0\n",
    "    )\n",
    "    \n",
    "    drop_1=fluid.layers.dropout(hidden,0.4)\n",
    "    \n",
    "    #第二个卷积层\n",
    "    \n",
    "    h2=fluid.nets.simple_img_conv_pool(\n",
    "    input=drop_1,\n",
    "        num_filters=50,\n",
    "        filter_size=3,\n",
    "        pool_size=2,\n",
    "        pool_stride=1,\n",
    "        pool_padding=0\n",
    "    )\n",
    "    \n",
    "    drop_2=fluid.layers.dropout(h2,0.4)\n",
    "\n",
    "#     predict = fluid.layers.fc(h2,size=1,act='sigmoid')\n",
    "    predict = fluid.layers.fc(drop_2,size=2,act='softmax')\n",
    "\n",
    "    return predict"
   ]
  },
  {
   "cell_type": "markdown",
   "metadata": {},
   "source": [
    "<h2>5-训练开始</h2>"
   ]
  },
  {
   "cell_type": "code",
   "execution_count": 8,
   "metadata": {},
   "outputs": [],
   "source": [
    "# 设置训练场所\n",
    "use_cuda = False\n",
    "place = fluid.CUDAPlace(0) if use_cuda else fluid.CPUPlace()"
   ]
  },
  {
   "cell_type": "code",
   "execution_count": 9,
   "metadata": {},
   "outputs": [],
   "source": [
    "#配置网络结构\n",
    "def train_func():\n",
    "    \n",
    "    label = fluid.layers.data(name='label', shape = [1],dtype = 'int64')\n",
    "    predict = convolutional_neural_network()\n",
    "\n",
    "    # 损失函数，cross_entropy 函数内部使用交叉熵损失函数\n",
    "    cost = fluid.layers.cross_entropy(input=predict, label=label)\n",
    "    avg_cost = fluid.layers.mean(cost)\n",
    "    return avg_cost"
   ]
  },
  {
   "cell_type": "code",
   "execution_count": 10,
   "metadata": {},
   "outputs": [],
   "source": [
    "def optimizer_func():\n",
    "    # 创建优化器optimizer，下面列举了2种常用的优化器，不同类型优化器选一即可\n",
    "    # 创建Momentum优化器，并设置学习率(learning_rate)、动量(momentum)\n",
    "    optimizer=fluid.optimizer.Momentum(learning_rate=0.001,momentum=0.9)\n",
    "\n",
    "    return optimizer"
   ]
  },
  {
   "cell_type": "code",
   "execution_count": 11,
   "metadata": {},
   "outputs": [],
   "source": [
    "feed_order = ['img', 'label']     #数据格式\n",
    "params_dirname = \"./DNN_model\"    #模型保存路径"
   ]
  },
  {
   "cell_type": "code",
   "execution_count": 12,
   "metadata": {},
   "outputs": [],
   "source": [
    "# 事件处理函数\n",
    "from paddle.v2.plot import Ploter\n",
    "train_title = \"Train cost\"\n",
    "test_title = \"Test cost\"\n",
    "plot_cost = Ploter(train_title, test_title)\n",
    "\n",
    "step = 0\n",
    "def event_handler_plot(event):\n",
    "    global step\n",
    "    if isinstance(event, fluid.EndStepEvent):\n",
    "        if event.step % 2 == 0: # 若干个batch,记录cost\n",
    "            if event.metrics[0] < 10:\n",
    "                plot_cost.append(train_title, step, event.metrics[0])\n",
    "                plot_cost.plot()\n",
    "        if event.step % 20 == 0: # 若干个batch,记录cost\n",
    "            test_metrics = trainer.test(\n",
    "            reader=test_reader, feed_order=feed_order)\n",
    "            if test_metrics[0] < 10:\n",
    "                plot_cost.append(test_title, step, test_metrics[0])\n",
    "                plot_cost.plot()\n",
    "\n",
    "#             if test_metrics[0] < 1.0:\n",
    "#                 # 如果准确率达到阈值，则停止训练\n",
    "#                 print('loss is less than 10.0, stop')\n",
    "#                 trainer.stop()\n",
    "\n",
    "        # 将参数存储，用于预测使用\n",
    "        if params_dirname is not None:\n",
    "            trainer.save_params(params_dirname)\n",
    "    step += 1"
   ]
  },
  {
   "cell_type": "code",
   "execution_count": 13,
   "metadata": {},
   "outputs": [],
   "source": [
    "#训练所用到的具体数据\n",
    "BATCH_SIZE=50\n",
    "# 设置训练reader\n",
    "train_reader = paddle.batch(\n",
    "    paddle.reader.shuffle(\n",
    "        read_data(train_set_x,train_set_y,buffer_size=209), \n",
    "        buf_size=60),\n",
    "    batch_size=BATCH_SIZE)\n",
    "# 设置测试reader\n",
    "test_reader = paddle.batch(\n",
    "    paddle.reader.shuffle(\n",
    "        read_data(test_set_x,test_set_y,buffer_size=50), \n",
    "        buf_size=60),\n",
    "    batch_size=BATCH_SIZE)"
   ]
  },
  {
   "cell_type": "code",
   "execution_count": 14,
   "metadata": {},
   "outputs": [],
   "source": [
    "#创建训练器\n",
    "trainer = fluid.Trainer(\n",
    "    train_func= train_func,\n",
    "    place= place,\n",
    "    optimizer_func= optimizer_func)\n"
   ]
  },
  {
   "cell_type": "code",
   "execution_count": 15,
   "metadata": {},
   "outputs": [
    {
     "data": {
      "image/png": "[encoded data removed]",
      "text/plain": [
       "<Figure size 432x288 with 1 Axes>"
      ]
     },
     "metadata": {},
     "output_type": "display_data"
    },
    {
     "data": {
      "text/plain": [
       "<Figure size 432x288 with 0 Axes>"
      ]
     },
     "metadata": {},
     "output_type": "display_data"
    }
   ],
   "source": [
    "#开始训练\n",
    "trainer.train(\n",
    "    reader=train_reader,\n",
    "    num_epochs=60 ,\n",
    "    event_handler=event_handler_plot ,\n",
    "    feed_order=feed_order )"
   ]
  },
  {
   "cell_type": "markdown",
   "metadata": {},
   "source": [
    "<h2>预测</h2>"
   ]
  },
  {
   "cell_type": "code",
   "execution_count": 16,
   "metadata": {},
   "outputs": [],
   "source": [
    "inferencer = fluid.Inferencer(\n",
    "    infer_func=convolutional_neural_network, param_path=params_dirname, place=place)"
   ]
  },
  {
   "cell_type": "code",
   "execution_count": 17,
   "metadata": {},
   "outputs": [
    {
     "name": "stdout",
     "output_type": "stream",
     "text": [
      "预测结果：[1 1 0 1 0 1 1 0 1 1 1 0 1 1 0 1 1 1 1 1 1 0 1 1 1 1 1 1 1 1 1 1 1 0 1 0 1\n",
      " 1 0 0 1 0 0 1 1 1 1 0 1 0]\n",
      "真实结果：[1 0 0 1 0 1 0 0 1 1 1 0 1 1 1 1 1 1 1 1 1 0 1 1 1 1 1 0 0 1 1 1 1 0 1 0 1\n",
      " 1 0 1 1 0 0 1 1 1 0 1 0 1]\n"
     ]
    }
   ],
   "source": [
    "# 取出一个 mini-batch\n",
    "for mini_batch in test_reader(): \n",
    "    # 转化为 numpy 的 ndarray 结构，并且设置数据类型\n",
    "    test_x = np.array([data[0] for data in mini_batch]).astype(\"float32\")\n",
    "    test_y = np.array([data[1] for data in mini_batch]).astype(\"int64\")\n",
    "    # 真实进行预测\n",
    "    mini_batch_result = inferencer.infer({'img': test_x})\n",
    "    \n",
    "#     result=(mini_batch_result[0][:,-1]>0.5)+0   #True or False 转0/1，直接后面+0即可\n",
    "    \n",
    "    \n",
    "    # 打印预测结果\n",
    "    mini_batch_result = np.argsort(mini_batch_result) #找出可能性最大的列标，升序排列,\n",
    "    \n",
    "    ###目的是啥啊，为啥升序排列啊\n",
    "    ###经过分析，这是多分类问题会用到的函数，找出概率值最大的下标\n",
    "    \n",
    "    \n",
    "    mini_batch_result = mini_batch_result[0][:, -1]  #把这些列标拿出来\n",
    "\n",
    "#     print('预测结果：%s'%result)\n",
    "    print('预测结果：%s'%mini_batch_result)\n",
    "    \n",
    "    # 打印真实结果    \n",
    "    label = np.array(test_y) # 转化为 label\n",
    "    print('真实结果：%s'%label)\n",
    "    break    "
   ]
  },
  {
   "cell_type": "code",
   "execution_count": 18,
   "metadata": {},
   "outputs": [],
   "source": [
    "# 查看百分比\n",
    "def right_ratio(right_counter, total):\n",
    "    ratio = float(right_counter)/total\n",
    "    return ratio"
   ]
  },
  {
   "cell_type": "code",
   "execution_count": 19,
   "metadata": {},
   "outputs": [],
   "source": [
    "# 评估函数 data_set 是一个reader\n",
    "def evl(data_set):\n",
    "    total = 0    #操作的元素的总数\n",
    "    right_counter = 0  #正确的元素\n",
    "\n",
    "    pass_num = 0\n",
    "#     print(liruoyi)\n",
    "    for mini_batch in data_set():\n",
    "        pass_num += 1\n",
    "        #预测\n",
    "        test_x = np.array([data[0] for data in mini_batch]).astype(\"float32\")\n",
    "        test_y = np.array([data[1] for data in mini_batch]).astype(\"int64\")\n",
    "        mini_batch_result = inferencer.infer({'img': test_x})\n",
    "        \n",
    "#         mini_batch_result=(mini_batch_result[0][:,-1]>0.5)+0   #True or False 转0/1，直接后面+0即可\n",
    "        \n",
    "        #预测的结果\n",
    "        mini_batch_result = np.argsort(mini_batch_result) #找出可能性最大的列标，升序排列\n",
    "        mini_batch_result = mini_batch_result[0][:, -1]+0  #把这些列标拿出来\n",
    "\n",
    "#         print('预测结果：%s'%result)\n",
    "\n",
    "        label = np.array(test_y) # 转化为 label\n",
    "#         print('真实结果：%s'%label)\n",
    "\n",
    "        #计数\n",
    "        label_len = len(label)\n",
    "        total += label_len\n",
    "        for i in xrange(label_len):\n",
    "            if mini_batch_result[i] == label[i]:\n",
    "                right_counter += 1\n",
    "\n",
    "    ratio = right_ratio(right_counter, total)\n",
    "    return ratio"
   ]
  },
  {
   "cell_type": "code",
   "execution_count": 20,
   "metadata": {},
   "outputs": [
    {
     "name": "stdout",
     "output_type": "stream",
     "text": [
      "训练数据的正确率 98.50%\n",
      "预测数据的正确率 80.00%\n"
     ]
    }
   ],
   "source": [
    "ratio = evl(train_reader)\n",
    "print('训练数据的正确率 %0.2f%%'%(ratio*100))\n",
    "\n",
    "ratio = evl(test_reader)\n",
    "print('预测数据的正确率 %0.2f%%'%(ratio*100))\n"
   ]
  },
  {
   "cell_type": "code",
   "execution_count": null,
   "metadata": {},
   "outputs": [],
   "source": []
  }
 ],
 "metadata": {
  "kernelspec": {
   "display_name": "Python2.7",
   "language": "python",
   "name": "paddle0.12"
  },
  "language_info": {
   "codemirror_mode": {
    "name": "ipython",
    "version": 2
   },
   "file_extension": ".py",
   "mimetype": "text/x-python",
   "name": "python",
   "nbconvert_exporter": "python",
   "pygments_lexer": "ipython2",
   "version": "2.7.15"
  }
 },
 "nbformat": 4,
 "nbformat_minor": 1
}
