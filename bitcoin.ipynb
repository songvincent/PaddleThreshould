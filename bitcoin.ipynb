{
 "cells": [
  {
   "cell_type": "code",
   "execution_count": 1,
   "metadata": {},
   "outputs": [
    {
     "name": "stdout",
     "output_type": "stream",
     "text": [
      "Archive:  data/data253/Bitcoin_LSTM_fluid.zip\n",
      "  inflating: Bitcoin_LSTM_fluid/Bitcoin_fluid_lstm_homework.ipynb  \n",
      "  inflating: Bitcoin_LSTM_fluid/Bitcoin_fluid_lstm_complete.ipynb  \n",
      "  inflating: Bitcoin_LSTM_fluid/.ipynb_checkpoints/Bitcoin_fluid_lstm_homework-checkpoint.ipynb  \n",
      "  inflating: Bitcoin_LSTM_fluid/.ipynb_checkpoints/fluid_try-checkpoint.ipynb  \n",
      "  inflating: Bitcoin_LSTM_fluid/.ipynb_checkpoints/get_BitcoinPrediction-checkpoint.ipynb  \n",
      "  inflating: Bitcoin_LSTM_fluid/.ipynb_checkpoints/Bitcoin_fluid_lstm_complete-checkpoint.ipynb  \n",
      "  inflating: Bitcoin_LSTM_fluid/model/lstm_0.w_0  \n",
      "  inflating: Bitcoin_LSTM_fluid/model/fc_1.b_0  \n",
      "  inflating: Bitcoin_LSTM_fluid/model/fc_1.w_0  \n",
      "  inflating: Bitcoin_LSTM_fluid/model/fc_0.b_0  \n",
      "  inflating: Bitcoin_LSTM_fluid/model/lstm_0.b_0  \n",
      "  inflating: Bitcoin_LSTM_fluid/model/fc_0.w_0  \n",
      "  inflating: Bitcoin_LSTM_fluid/model/__model__  \n",
      "  inflating: Bitcoin_LSTM_fluid/images/Bitcoin.png  \n",
      "  inflating: Bitcoin_LSTM_fluid/datasets/BitcoinDataset.txt  \n",
      "  inflating: Bitcoin_LSTM_fluid/datasets/BitcoinDataset.csv  \n",
      "  inflating: Bitcoin_LSTM_fluid/images/images/Bitcoin.png  \n",
      "   creating: Bitcoin_LSTM_fluid/datasets/.ipynb_checkpoints/\n",
      "  inflating: Bitcoin_LSTM_fluid/images/images/images/Bitcoin.png  \n"
     ]
    }
   ],
   "source": [
    "# #请先运行此代码块获得代码\n",
    "# !DATA_PATH=data/data253/ && NEW_NAME=$(find -name *[0-9].ipynb) && NEW_NAME=${NEW_NAME%.*} && NEW_NAME=${NEW_NAME#./} && unzip -o ${DATA_PATH}Bitcoin_LSTM_fluid.zip  && cp -rf Bitcoin_LSTM_fluid/. . && mv Bitcoin_fluid_lstm_complete.ipynb ${NEW_NAME}\"_complete.ipynb\"                                                                                                     "
   ]
  },
  {
   "cell_type": "code",
   "execution_count": 2,
   "metadata": {},
   "outputs": [],
   "source": [
    "# !cp -R /home/aistudio/datasets/ /tmp/    "
   ]
  },
  {
   "cell_type": "markdown",
   "metadata": {},
   "source": [
    "# Paddlepaddle实现LSTM - 比特币预测\n",
    "\n",
    "欢迎大家来到这个实验，本实验实现的是利用LSTM (长短期记忆神经网络) 进行比特币价格预测，通过本次实验，你将了解比特币预测的方法、比特币预测的数据集处理技巧、LSTM模型搭建以及训练过程等等，除此之外，你还将看到Paddlepaddle框架实现深度学习的一个十分清晰的结构流程，加深你对Paddlepaddle的了解。\n",
    "\n",
    "在开始实验之前，我们有必要先来了解一下比特币预测的一些知识，以便对比特币预测实验有一个整体把握。"
   ]
  },
  {
   "cell_type": "markdown",
   "metadata": {},
   "source": [
    "## 背景知识\n",
    "\n",
    "我们之前做过关于房价预测的实验，房价预测就是根据影响房价的一些因素(面积，地理位置等等)来构建一个全连接层神经网络并对其函数参数进行训练，最后使得损失函数收敛，这样一来我们就可以得到确切的函数关系式，每给一个输入，便得到一个相应的房价输出，每次的房价输出仅仅与本次的输入有关，而与之前的输入输出没有关系，即房价的数据不构成时间序列。\n",
    "\n",
    "比特币预测虽然同样是预测类的实验，但却与房价预测有很大的不同，因为我们无法只根据一天的比特币价格数据就能对后面的比特币价格进行预测，换句话说，比特币价格不仅仅与前面一天的数据有关系，还跟以前的比特币价格有关系，这样，比特币价格的数据就构成了一种时间序列，而每次决定比特币预测结果的也不是仅仅是本次的输入，而是过去一段时间的数据序列，所以我们不能像预测房价那样使用全连接层神经网络，而是使用LSTM模型。\n",
    "\n",
    "\n",
    "简单了解了比特币预测的原理后，我们就可以正式开始实验了。"
   ]
  },
  {
   "cell_type": "markdown",
   "metadata": {},
   "source": [
    "本次实验分流程如下：\n",
    "\n",
    "1. 引用库的导入\n",
    "2. 数据预处理\n",
    "3. 构造数据读取的Reader\n",
    "4. 搭建模型\n",
    "5. 训练模型\n",
    "6. 预测及可视化\n",
    "7. 总结\n",
    "\n",
    "## 1 - 引用库\n",
    "\n",
    "首先，我们需要加载实验需要用到的一些库，他们分别是：\n",
    "\n",
    "- numpy：一个python的基本库，用于科学计算\n",
    "- matplotlib.pyplot：用于生成比特币预测效果图\n",
    "- paddle.fluid ：PaddlePaddle深度学习框架  \n",
    "- from __future__ import print_function:在开头加上from __future__ import print_function这句之后，即使在python2.X，使用print就得像   python3.X那样加括号使用."
   ]
  },
  {
   "cell_type": "code",
   "execution_count": 1,
   "metadata": {},
   "outputs": [],
   "source": [
    "import numpy as np\n",
    "import math\n",
    "import matplotlib.pyplot as plt\n",
    "import paddle\n",
    "import paddle.fluid as fluid \n",
    "from __future__ import print_function"
   ]
  },
  {
   "cell_type": "markdown",
   "metadata": {},
   "source": [
    "## 2 - 数据预处理\n",
    "\n",
    "本次实验采用的是网上公开历史比特币价格数据集，数据集包含9列 (样本标签、日期、开盘价、最高价、最低价、闭盘价、交易量、市场总值、第二天的比特币价格) ，共有1623天的比特币价格数据，下图为其中的一部分:\n",
    "![fig1](./images/Bitcoin.png)\n",
    "\n",
    "在本实验中，我们利用历史数据中的开盘价、最高价、最低价、闭盘价、交易量、市场总值来对下一日的比特币价格进行预测\n",
    "\n",
    "数据处理第一步，我们首先需要对文件中我们不需要的数据进行删除，在本实验中，我们可以直接在原数据集文件中删除前两列和第一行，然后保存文件为新的数据集BitcoinDataset.txt。然后我们需要读取剩下的数据："
   ]
  },
  {
   "cell_type": "code",
   "execution_count": 2,
   "metadata": {},
   "outputs": [],
   "source": [
    "SAVE_DIRNAME = 'model'\n",
    "f = open('/tmp/datasets/BitcoinDataset.txt') \n",
    "df = f.readlines()    \n",
    "f.close()"
   ]
  },
  {
   "cell_type": "markdown",
   "metadata": {},
   "source": [
    "下面的代码把数据整理成我们需要的数组形式并保存在data中，形状为1623×7"
   ]
  },
  {
   "cell_type": "code",
   "execution_count": 3,
   "metadata": {},
   "outputs": [],
   "source": [
    "data = []\n",
    "for line in df:\n",
    "    data_raw = line.strip('\\n').strip('\\r').split('\\t') #这里data_raw是列表形式，代表一行数据样本\n",
    "    data.append(data_raw)#data为二维列表形式\n",
    "data = np.array(data, dtype='float32')"
   ]
  },
  {
   "cell_type": "markdown",
   "metadata": {},
   "source": [
    "在数据整理完成以后，我们可以查看一下数据信息，例如数据的类型、数据的个数、形状等等。"
   ]
  },
  {
   "cell_type": "markdown",
   "metadata": {},
   "source": [
    "### 练习：输出处理完成的数据的类型、个数、形状以及数据的第一行。"
   ]
  },
  {
   "cell_type": "code",
   "execution_count": 4,
   "metadata": {},
   "outputs": [
    {
     "name": "stdout",
     "output_type": "stream",
     "text": [
      "数据类型:<type 'numpy.ndarray'>\n",
      "数据个数:1623\n",
      "数据形状:(1623, 7)\n",
      "数据第一行:[7.62597e+03 7.68043e+03 7.50201e+03 7.65398e+03 4.69226e+09 1.30000e+11\n",
      " 7.65398e+03]\n"
     ]
    }
   ],
   "source": [
    "###完成此处代码，获得期望输出###\n",
    "## START CODE HERE ###\n",
    "print(\"数据类型:\"+str(type(data)))\n",
    "print(\"数据个数:\"+str(data.shape[0]))\n",
    "print(\"数据形状:\"+str(data.shape))\n",
    "print(\"数据第一行:\"+str(data[0]))\n",
    "### END CODE HERE ###"
   ]
  },
  {
   "cell_type": "markdown",
   "metadata": {},
   "source": [
    "### 期望输出："
   ]
  },
  {
   "cell_type": "markdown",
   "metadata": {},
   "source": [
    "数据类型： <type 'numpy.ndarray'><br/>\n",
    "数据个数： 1623<br/>\n",
    "数据形状： (1623, 7)<br/>\n",
    "数据第一行： [7.62597e+03 7.68043e+03 7.50201e+03 7.65398e+03 4.69226e+09 1.30000e+11\n",
    " 7.65398e+03]\n"
   ]
  },
  {
   "cell_type": "markdown",
   "metadata": {},
   "source": [
    "接下来，我们需要将数据进行分割，由于数据量为1623，不是很大，通常按照8:2的比例来划分训练集和数据集，这里将前1298组数据作为训练集，后面325组数据作为测试集。"
   ]
  },
  {
   "cell_type": "markdown",
   "metadata": {},
   "source": [
    "### 练习：完成以下训练集和数据集的分割代码"
   ]
  },
  {
   "cell_type": "code",
   "execution_count": 5,
   "metadata": {},
   "outputs": [],
   "source": [
    "ratio = 0.8\n",
    "DATA_NUM = len(data)\n",
    "\n",
    "train_len = int(DATA_NUM * ratio)\n",
    "test_len = DATA_NUM - train_len\n",
    "\n",
    "### START CODE HERE ###(≈ 2 lines of code)\n",
    "train_data=data[:train_len,:]\n",
    "test_data=data[train_len:,:]\n",
    "\n",
    "### END CODE HERE ###"
   ]
  },
  {
   "cell_type": "markdown",
   "metadata": {},
   "source": [
    "由于每条数据样本的6个输入特征的取值范围大小不一，因此这里实现特征的归一化操作"
   ]
  },
  {
   "cell_type": "markdown",
   "metadata": {},
   "source": [
    "### 练习：完成归一化    \n",
    "result_data = (data - avg) / (max_ - min_) "
   ]
  },
  {
   "cell_type": "code",
   "execution_count": 6,
   "metadata": {},
   "outputs": [],
   "source": [
    "# 归一化 \n",
    "def normalization(data):\n",
    "    avg = np.mean(data, axis=0)#axis=0表示按数组元素的列对numpy取相关操作值\n",
    "    max_ = np.max(data, axis=0)\n",
    "    min_ = np.min(data, axis=0)\n",
    "\n",
    "### START CODE HERE ###(≈ 1 lines of code)    \n",
    "    result_data=(data-avg)/(max_-min_)\n",
    "### END CODE HERE ###    \n",
    "    return result_data\n",
    "    "
   ]
  },
  {
   "cell_type": "code",
   "execution_count": 7,
   "metadata": {},
   "outputs": [],
   "source": [
    "train_data = normalization(train_data)\n",
    "test_data = normalization(test_data)"
   ]
  },
  {
   "cell_type": "markdown",
   "metadata": {},
   "source": [
    "## 3 - 构造Reader\n",
    "\n",
    "首先来介绍一下paddlepaddle的reader机制：\n",
    "\n",
    "- **作用**：构造train_reader()函数，来读取训练数据集train_set或者测试数据集test_set。\n",
    "- **用法**：具体实现是在read_data()函数内部构造一个reader()，使用yield关键字来让reader()成为一个Generator（生成器），注意，yield关键字的作用和使用方法类似return关键字，不同之处在于yield关键字可以构造生成器（Generator）。\n",
    "- **优势**：虽然我们可以直接创建一个包含所有数据的列表，但是由于内存限制，我们不可能创建一个无限大的或者巨大的列表，并且很多时候在创建了一个百万数量级别的列表之后，我们却只需要用到开头的几个或几十个数据，这样造成了极大的浪费，而生成器的工作方式是在每次循环时计算下一个值，不断推算出后续的元素，不会创建完整的数据集列表，从而节约了内存使用。\n",
    "\n",
    "关于Reader机制更加详细的介绍，可以参看此博客："
   ]
  },
  {
   "cell_type": "code",
   "execution_count": 8,
   "metadata": {},
   "outputs": [],
   "source": [
    "def my_train_reader():\n",
    "    def reader():\n",
    "        for temp in train_data:\n",
    "            yield temp[:-1],temp[-1:]\n",
    "### START CODE HERE ###(≈ 1 lines of code)\n",
    "#用yield语句完成训练数据的读取功能\n",
    "\n",
    "### END CODE HERE ###(≈ 1 lines of code)\n",
    "    return reader\n",
    "\n",
    "def my_test_reader():\n",
    "    def reader():\n",
    "        for temp in test_data:\n",
    "            yield temp[:-1],temp[-1:]\n",
    "### START CODE HERE ###(≈ 1 lines of code)\n",
    "#用yield语句完成测试数据的读取功能            \n",
    "\n",
    "### END CODE HERE ###(≈ 1 lines of code)    \n",
    "    return reader"
   ]
  },
  {
   "cell_type": "markdown",
   "metadata": {},
   "source": [
    "由于比特币各个feature之间的数据差异比较大，所以在上面划分数据集的操作中使用了归一化操作，如此可以提高模型的精度以及加快模型的收敛速度。关于归一化的一些知识可以参看以下博客：    \n",
    "http://blog.csdn.net/lvweiyimi2b/article/details/54694351"
   ]
  },
  {
   "cell_type": "markdown",
   "metadata": {},
   "source": [
    "至此，数据预处理完成，在这一部分，我们可以看到，数据预处理是程序的最基础部分，我们需要掌握一些数据处理的技巧来使接下来的模型训练减少很多不必要的问题甚至错误。"
   ]
  },
  {
   "cell_type": "markdown",
   "metadata": {},
   "source": [
    "### 练习：train_reader的定义\n",
    "\n",
    "train_reader = paddle.batch( )"
   ]
  },
  {
   "cell_type": "code",
   "execution_count": 9,
   "metadata": {},
   "outputs": [],
   "source": [
    "# 定义batch\n",
    "BATCH_SIZE=16\n",
    "### START CODE HERE ###(≈ 1 lines of code)\n",
    "# train_reader = paddle.batch(\n",
    "#     paddle.reader.shuffle(\n",
    "#         my_train_reader(), \n",
    "#         buf_size=500),\n",
    "#     batch_size=BATCH_SIZE)\n",
    "#输入的是序列，所以不能打乱\n",
    "\n",
    "train_reader=paddle.batch(my_train_reader(),batch_size=BATCH_SIZE)\n",
    "### END CODE HERE ###(≈ 1 lines of code)    "
   ]
  },
  {
   "cell_type": "markdown",
   "metadata": {},
   "source": [
    "PaddleFluid 模型通过fluid.layers.data 来接收输入数据。图像分类网络以图片以及图片对应的类别标签作为网络的输入。\n",
    "\n",
    "\n",
    "word = fluid.layers.data(\n",
    "\n",
    "name= \"current_word\", shape=[ 1], dtype= \"int64\", lod_level= 1)\n",
    "\n",
    "lbl = fluid.layers.data(\n",
    "\n",
    "name= \"next_word\", shape=[ 1], dtype= \"int64\", lod_level= 1)\n",
    "1. 定义 data layer 的核心是指定输入 Tensor 的形状（shape ）和类型。\n",
    "2. RNN LM 使用 one-hot 作为输入，一个词用一个和字典大小相同的向量表示，每一个位置对应了字典中的 一个词语。one-hot 向量仅有一个维度为 1， 其余全部为 0。因此为了节约存储空间，通常都直接用一个整型数表示给出词语在字典中的 id，而不是真的创建一个和词典同样大小的向量 ，因此在上面定义的 data layer 中word 和lbl 的形状都是 1，类型是int64 。\n",
    "3. 需要特别说明的是，实际上word 和lbl 是两个[batch_size x 1] 的向量，这里的batch size 是指一个 mini-batch 中序列中的总词数。对序列学习任务， mini-batch 中每个序列长度 总是在发生变化，因此实际的batch_size 只有在运行时才可以确定。batch size 总是一个输入 Tensor 的第 0 维，在 PaddleFluid 中指定 data layer 的 shape 时，不需要指定batch size 的大小，也不需要考虑占位。框架会自动补充占位符，并且在运行时 设置正确的维度信息。因此，上面的两个 data layer 的 shape 都只需要设置第二个维度，也就是 1。\n",
    "\n",
    "https://www.sohu.com/a/239163488_500659"
   ]
  },
  {
   "cell_type": "markdown",
   "metadata": {},
   "source": [
    "## 4 - 搭建模型\n",
    "在完成了数据预处理与Reader的构造等基础工程之后，我们就可以正式进入LSTM模型的搭建流程了。"
   ]
  },
  {
   "cell_type": "markdown",
   "metadata": {},
   "source": [
    "### fluid.layers.data\n",
    "- 参数:\t\n",
    "- name (str) – The name/alias of the function\n",
    "- shape (list) – Tuple declaring the shape.数组声明形状\n",
    "- dtype (int|float) – The type of data : float32, float_16, int etc\n",
    "- lod_level (int) – The LoD Level. 0 means the input data is not a sequence.\n",
    "- 返回:\t\n",
    "The global variable that gives access to the data.\n",
    "- 返回类型:\t\n",
    "Variable\n",
    "- examples<br/>\n",
    "data = fluid.layers.data(name='x', shape=[784], dtype='float32')\n",
    "\n",
    "### fluid.layers.fc\n",
    "- input (Variable|list of Variable) – The input tensor(s) of this layer, and the dimension of the input tensor(s) is at least 2.\n",
    "- size (int) – The number of output units in this layer.\n",
    "- 返回:\t\n",
    "The transformation result.\n",
    "- 返回类型:\t\n",
    "Variable\n",
    "- examples<br/>\n",
    "data = fluid.layers.data(name=\"data\", shape=[32, 32], dtype=\"float32\")<br/>\n",
    "fc = fluid.layers.fc(input=data, size=1000, act=\"tanh\")\n",
    "### fluid.layers.dynamic_lstm\n",
    "- input (Variable) – (LoDTensor) the first input is a LodTensor, which support variable-time length input sequence. The underlying tensor in this LoDTensor is a matrix with shape (T X 4D), where T is the total time steps in this mini-batch, D is the hidden size\n",
    "- size (int) – 4 * hidden size.\n",
    "- is_reverse (bool) – (bool, defalut: False) whether to compute reversed LSTM\n",
    "- examples<br/>\n",
    "hidden_dim = 512<br/>\n",
    "forward_proj = fluid.layers.fc(input=input_seq, size=hidden_dim \\* 4,act=None, bias_attr=None) <br/>\n",
    "forward, _ = fluid.layers.dynamic_lstm(input=forward_proj, size=hidden_dim \\* 4, use_peepholes=False)\n",
    "### fluid.layers.sequence_pool\n",
    "- input (variable) – The input variable which is a LoDTensor.\n",
    "- pool_type (string) – The pooling type of sequence_pool. It supports average, sum, sqrt and max.\n",
    "- 返回:\t\n",
    "The sequence pooling variable which is a Tensor.\n",
    "- examples<br/>\n",
    "x is a 1-level LoDTensor:<br/>\n",
    "x.lod = [[2, 3, 2]]<br/>\n",
    "x.data = [1, 3, 2, 4, 6, 5, 1]<br/>\n",
    "x.dims = [7, 1]<br/>\n",
    "then output is a Tensor:<br/>\n",
    "out.dim = [3, 1]<br/>\n",
    "with condition len(x.lod[-1]) == out.dims[0]<br/>\n",
    "max    : out.data = [3, 6, 5], where 3=max(1,3), 6=max(2,4,6), 5=max(5,1)'''<br/>\n",
    "直观理解就是把[1,3,2,4,6,5,1]按[2,3,2]分成了[1,3],[2,4,6],[5,1]，再取max值"
   ]
  },
  {
   "cell_type": "markdown",
   "metadata": {},
   "source": [
    "### 练习：根据以上API完成LSTM模型搭建"
   ]
  },
  {
   "cell_type": "markdown",
   "metadata": {},
   "source": [
    "为什么size=dim \\* 4?<br/>\n",
    "为什么不设激活函数？？"
   ]
  },
  {
   "cell_type": "code",
   "execution_count": 10,
   "metadata": {},
   "outputs": [],
   "source": [
    "DIM = 1\n",
    "hid_dim2 = 1\n",
    "\n",
    "### START CODE HERE ###(≈ 7 lines of code)\n",
    "# input_seq=fluid.layers.data(name=\"input_seq\",shape=，dtype=\"float32\")\n",
    "# forward_proj = fluid.layers.fc(input=input_seq, size=hidden_dim 4,act=None, bias_attr=None)\n",
    "# forward, _ = fluid.layers.dynamic_lstm(input=forward_proj, size=hidden_dim 4, use_peepholes=False)\n",
    "\n",
    "x = fluid.layers.data(name='x', shape=[DIM], dtype='float32', lod_level=1)  #lod_level=0表示0 means the input data is not a sequence\n",
    "#shape为1，这是这么一个机制，每次灌进去的不是9个数字，二是一个个的01(字符串)\n",
    "label = fluid.layers.data(name='y', shape=[1], dtype='float32')\n",
    "\n",
    "# Lstm layer\n",
    "fc0 = fluid.layers.fc(input=x, size=DIM * 4)\n",
    "lstm_h, c = fluid.layers.dynamic_lstm(\n",
    "    input=fc0, size=DIM * 4, is_reverse=False)\n",
    "\n",
    "# max pooling layer\n",
    "lstm_max = fluid.layers.sequence_pool(input=lstm_h, pool_type='max')\n",
    "\n",
    "lstm_max_tanh = fluid.layers.tanh(lstm_max)\n",
    "\n",
    "# full connect layer\n",
    "prediction = fluid.layers.fc(input=lstm_max_tanh, size=hid_dim2, act='tanh')\n",
    "\n",
    "\n",
    "\n",
    "\n",
    "\n",
    "### END CODE HERE ###\n",
    "\n",
    "cost = fluid.layers.square_error_cost(input=prediction, label=label)\n",
    "avg_cost = fluid.layers.mean(x=cost)\n",
    "#定义的是一种模式，可以在下边被使用"
   ]
  },
  {
   "cell_type": "code",
   "execution_count": 11,
   "metadata": {},
   "outputs": [],
   "source": [
    "from paddle.v2.plot import Ploter\n",
    "train_title = \"Train cost\"\n",
    "test_title = \"Test cost\"\n",
    "plot_cost = Ploter(train_title, test_title)"
   ]
  },
  {
   "cell_type": "markdown",
   "metadata": {},
   "source": [
    "### fluid.default_startup_program() \n",
    "Get default/global startup program.<br/>\n",
    "The layer function in fluid.layers will create parameters, readers, NCCL handles as global variables.<br/> \n",
    "The startup_program will initialize them by the operators in startup program. <br/>\n",
    "The layer function will append these initialization operators into startup program.<br/>\n",
    "This method will return the default or the current startup program.<br/>\n",
    "Users can use fluid.program_guard to switch program.<br/>\n",
    "- 返回:\tstartup program\n",
    "- 返回类型:\tProgram\n",
    "### fluid.DataFeeder\n",
    "- 参数:\t\n",
    "- feed_list (list) – The Variables or Variables’name that will feed into model.\n",
    "- place (Place) – place indicates feed data into CPU or GPU, if you want to feed data into GPU, \n",
    "please using fluid.CUDAPlace(i) (i represents the GPU id), or if you want to feed data into CPU,\n",
    "please using fluid.CPUPlace().\n",
    "- program (Program) – The Program that will feed data into, if program is None, it will use default_main_program(). Default None.\n",
    "###  fluid.io.save_inference_model\n",
    "- 参数\n",
    "- dirname (str) – The directory path to save the inference model.\n",
    "- feeded_var_names (list[str]) – Names of variables that need to be feeded data during inference.\n",
    "- target_vars (list[Variable]) – Variables from which we can get inference results.\n",
    "- executor (Executor) – The executor that saves the inference model."
   ]
  },
  {
   "cell_type": "code",
   "execution_count": 12,
   "metadata": {},
   "outputs": [
    {
     "data": {
      "image/png": "[encoded data removed]",
      "text/plain": [
       "<Figure size 432x288 with 1 Axes>"
      ]
     },
     "metadata": {},
     "output_type": "display_data"
    },
    {
     "data": {
      "text/plain": [
       "<Figure size 432x288 with 0 Axes>"
      ]
     },
     "metadata": {},
     "output_type": "display_data"
    }
   ],
   "source": [
    "# 定义优化器\n",
    "sgd_optimizer = fluid.optimizer.Adam(learning_rate=0.001)\n",
    "sgd_optimizer.minimize(avg_cost)\n",
    "#双层for循环写法：\n",
    "\n",
    "\n",
    "\n",
    "# 参数初始化\n",
    "place = fluid.CPUPlace()\n",
    "# place = fluid.CUDAPlace(1)\n",
    "exe = fluid.Executor(place)#Python中的一个执行器，只支持单个GPU运行。\n",
    "exe.run( fluid.default_startup_program() )#获取默认/全局启动程序,并由执行器执行\n",
    "feeder = fluid.DataFeeder(place=place, feed_list=[x, label])\n",
    "# 定义双层循环\n",
    "def train_loop():\n",
    "    step = 0 # 画图用\n",
    "    PASS_NUM = 100\n",
    "    for pass_id in range(PASS_NUM):\n",
    "        total_loss_pass = 0#初始化每一个epoch的损失值初始值为0\n",
    "        for data in train_reader(): #data表示batch大小的数据样本          \n",
    "            avg_loss_value, = exe.run(\n",
    "                fluid.default_main_program(), \n",
    "                feed= feeder.feed(data), \n",
    "                fetch_list=[avg_cost])\n",
    "            total_loss_pass += avg_loss_value#计算每个epoch的总损失值\n",
    "\n",
    "        # 画图\n",
    "        plot_cost.append(train_title, step, avg_loss_value)\n",
    "        step += 1\n",
    "        plot_cost.plot()\n",
    "    fluid.io.save_inference_model(SAVE_DIRNAME, ['x'], [prediction], exe)\n",
    "\n",
    "train_loop()"
   ]
  },
  {
   "cell_type": "markdown",
   "metadata": {},
   "source": [
    "###  fluid.create_lod_tensor\n",
    "- 参数:\t\n",
    "- data (numpy.ndarray|list|LoDTensor) – a numpy array or a LoDTensor or a list holding the data to be copied.\n",
    "- recursive_seq_lens (list) – a list of lists indicating the length-based level of detail info specified by the user.\n",
    "- place (Place) – CPU or GPU place indicating where the data in the new LoDTensor will be stored.\n",
    "- 返回:\tA fluid LoDTensor object with tensor data and recursive_seq_lens info\n",
    "- examples<br/>\n",
    "Suppose we want LoDTensor to hold data for sequences of word, where each word is represented by an integer. <br/>If we want to create a LoDTensor to represent two sentences, one of 2 words, and one of 3 words.\n",
    "Then data can be a numpy array of integers with shape (5, 1). recursive_seq_lens will be [[2, 3]], indicating the length(# of words) in each sentence. This length-based recursive_seq_lens [[2, 3]]"
   ]
  },
  {
   "cell_type": "code",
   "execution_count": 17,
   "metadata": {},
   "outputs": [],
   "source": [
    "aa=np.random.randint(5,size=(4,3))"
   ]
  },
  {
   "cell_type": "code",
   "execution_count": 22,
   "metadata": {},
   "outputs": [],
   "source": [
    "# aa.reshape((-1,1))"
   ]
  },
  {
   "cell_type": "code",
   "execution_count": 66,
   "metadata": {},
   "outputs": [
    {
     "name": "stdout",
     "output_type": "stream",
     "text": [
      "(1950, 1)\n"
     ]
    }
   ],
   "source": [
    "#paddlepaddle就认准tensor格式 \n",
    "def convert2LODTensor(temp_arr, len_list):\n",
    "    temp_arr = np.array(temp_arr) \n",
    "    temp_arr = temp_arr.flatten().reshape((-1, 1))#把325个测试样本的array平坦化到一维数据[1950,1]的格式\n",
    "    \n",
    "    #flatten平坦化到一维\n",
    "    #reshape 搞成相应格式\n",
    "    \n",
    "    print(temp_arr.shape)\n",
    "    return fluid.create_lod_tensor(\n",
    "        data=temp_arr,#对测试样本来说这里表示325个样本的平坦化数据列表，维度为[1950,1]\n",
    "        recursive_seq_lens =[len_list],#对于测试样本来说这里全是6，所以为325 个6的列表\n",
    "        place=fluid.CPUPlace()\n",
    "        )#返回：A fluid LoDTensor object with tensor data and recursive_seq_lens info\n",
    "    \n",
    "\n",
    "    \n",
    "   \n",
    "def get_tensor_label(mini_batch):  \n",
    "    tensor = None\n",
    "    labels = []\n",
    "    \n",
    "    temp_arr = []\n",
    "    len_list = []\n",
    "    for _ in mini_batch:   #mini_batch表示的大小为325个测试样本数据\n",
    "        labels.append(_[1]) #收集 label----y----------1维\n",
    "        temp_arr.append(_[0]) #收集序列本身--x---------6维\n",
    "        len_list.append(len(_[0])) #收集每个序列x的长度,和上边x的维度对应，这里全为6\n",
    "    tensor = convert2LODTensor(temp_arr, len_list)    \n",
    "    return tensor, labels\n",
    "\n",
    "my_tensor = None\n",
    "labels = None\n",
    "\n",
    "# 定义batch\n",
    "test_reader = paddle.batch(\n",
    "    my_test_reader(),\n",
    "    batch_size=325)#一次性把样本取完\n",
    "\n",
    "\n",
    "for mini_batch in test_reader():\n",
    "    my_tensor,labels = get_tensor_label(mini_batch)#其实就是变成tensor格式的x和y\n",
    "    break\n",
    "   \n"
   ]
  },
  {
   "cell_type": "markdown",
   "metadata": {},
   "source": [
    "### fluid.io.load_inference_model\t\n",
    "- 参数：\n",
    "- dirname (str) – The directory path\n",
    "- executor (Executor) – The executor to run for loading inference model.\n",
    "- 返回:\t\n",
    "The return of this function is a tuple with three elements: (program, feed_target_names, fetch_targets). The program is a Program, it’s the program for inference. The feed_target_names is a list of str, it contains Names of variables that need to feed data in the inference program. The fetch_targets is a list of Variable. It contains variables from which we can get inference results.\n",
    "- 返回类型:\t\n",
    "tuple<br/>\n",
    "这个函数的返回是一个元组，有三个元素：（1）推断程序，（2）需要在推理程序中提供数据的变量的名称，\n",
    "（3）The fetch_targets is a list of Variable. It contains variables from which we can get inference results"
   ]
  },
  {
   "cell_type": "code",
   "execution_count": 67,
   "metadata": {},
   "outputs": [],
   "source": [
    "place = fluid.CPUPlace()\n",
    "exe = fluid.Executor(place)\n",
    "inference_scope = fluid.core.Scope()\n",
    "with fluid.scope_guard(inference_scope):#更改全局/默认作用域实例。运行时的所有变量将分配给新的作用域。\n",
    "    [inference_program, feed_target_names, fetch_targets] = (\n",
    "        fluid.io.load_inference_model(SAVE_DIRNAME, exe))\n",
    "    results = exe.run(inference_program,\n",
    "                      feed= {'x': my_tensor}, #{feed_target_names[0]:my_tensor },和上面保存模型时统一\n",
    "                      fetch_list=fetch_targets)\n",
    "#     print(\"infer results: \", results[0])\n",
    "#     print(\"ground truth: \", labels)\n",
    "#load_inference_model解释件上面api解释\n"
   ]
  },
  {
   "cell_type": "code",
   "execution_count": 68,
   "metadata": {},
   "outputs": [
    {
     "data": {
      "image/png": "[encoded data removed]",
      "text/plain": [
       "<Figure size 432x288 with 1 Axes>"
      ]
     },
     "metadata": {},
     "output_type": "display_data"
    }
   ],
   "source": [
    "result_print = results[0].flatten()\n",
    "plt.figure()\n",
    "plt.plot(list(range(len(labels))), labels, color='r')  #红线为真实值\n",
    "plt.plot(list(range(len(result_print))), result_print, color='g')  #绿线为预测值\n",
    "plt.show()"
   ]
  }
 ],
 "metadata": {
  "kernelspec": {
   "display_name": "Python2.7",
   "language": "python",
   "name": "paddle0.12"
  },
  "language_info": {
   "codemirror_mode": {
    "name": "ipython",
    "version": 2
   },
   "file_extension": ".py",
   "mimetype": "text/x-python",
   "name": "python",
   "nbconvert_exporter": "python",
   "pygments_lexer": "ipython2",
   "version": "2.7.15"
  }
 },
 "nbformat": 4,
 "nbformat_minor": 2
}
