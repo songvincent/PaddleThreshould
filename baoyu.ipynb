{
 "cells": [
  {
   "cell_type": "markdown",
   "metadata": {},
   "source": [
    "<h2>导入库</h2>"
   ]
  },
  {
   "cell_type": "code",
   "execution_count": 1,
   "metadata": {},
   "outputs": [],
   "source": [
    "import numpy as np\n",
    "import paddle\n",
    "import paddle.fluid as fluid\n",
    "import matplotlib.pyplot as plt\n",
    "import pandas as pd\n",
    "%matplotlib inline"
   ]
  },
  {
   "cell_type": "markdown",
   "metadata": {},
   "source": [
    "<h2>数据预处理</h2>"
   ]
  },
  {
   "cell_type": "markdown",
   "metadata": {},
   "source": [
    "性别\n",
    "长度\n",
    "直径\n",
    "高度\n",
    "总重量\n",
    "皮重\n",
    "内脏重量\n",
    "壳重\n",
    "\n",
    "年龄"
   ]
  },
  {
   "cell_type": "code",
   "execution_count": 2,
   "metadata": {},
   "outputs": [
    {
     "data": {
      "text/html": [
       "<div>\n",
       "<style scoped>\n",
       "    .dataframe tbody tr th:only-of-type {\n",
       "        vertical-align: middle;\n",
       "    }\n",
       "\n",
       "    .dataframe tbody tr th {\n",
       "        vertical-align: top;\n",
       "    }\n",
       "\n",
       "    .dataframe thead th {\n",
       "        text-align: right;\n",
       "    }\n",
       "</style>\n",
       "<table border=\"1\" class=\"dataframe\">\n",
       "  <thead>\n",
       "    <tr style=\"text-align: right;\">\n",
       "      <th></th>\n",
       "      <th>sex</th>\n",
       "      <th>length</th>\n",
       "      <th>diameter</th>\n",
       "      <th>height</th>\n",
       "      <th>allweight</th>\n",
       "      <th>skin</th>\n",
       "      <th>iweght</th>\n",
       "      <th>shell</th>\n",
       "      <th>age</th>\n",
       "    </tr>\n",
       "  </thead>\n",
       "  <tbody>\n",
       "    <tr>\n",
       "      <th>0</th>\n",
       "      <td>M</td>\n",
       "      <td>0.455</td>\n",
       "      <td>0.365</td>\n",
       "      <td>0.095</td>\n",
       "      <td>0.5140</td>\n",
       "      <td>0.2245</td>\n",
       "      <td>0.1010</td>\n",
       "      <td>0.150</td>\n",
       "      <td>15</td>\n",
       "    </tr>\n",
       "    <tr>\n",
       "      <th>1</th>\n",
       "      <td>M</td>\n",
       "      <td>0.350</td>\n",
       "      <td>0.265</td>\n",
       "      <td>0.090</td>\n",
       "      <td>0.2255</td>\n",
       "      <td>0.0995</td>\n",
       "      <td>0.0485</td>\n",
       "      <td>0.070</td>\n",
       "      <td>7</td>\n",
       "    </tr>\n",
       "    <tr>\n",
       "      <th>2</th>\n",
       "      <td>F</td>\n",
       "      <td>0.530</td>\n",
       "      <td>0.420</td>\n",
       "      <td>0.135</td>\n",
       "      <td>0.6770</td>\n",
       "      <td>0.2565</td>\n",
       "      <td>0.1415</td>\n",
       "      <td>0.210</td>\n",
       "      <td>9</td>\n",
       "    </tr>\n",
       "    <tr>\n",
       "      <th>3</th>\n",
       "      <td>M</td>\n",
       "      <td>0.440</td>\n",
       "      <td>0.365</td>\n",
       "      <td>0.125</td>\n",
       "      <td>0.5160</td>\n",
       "      <td>0.2155</td>\n",
       "      <td>0.1140</td>\n",
       "      <td>0.155</td>\n",
       "      <td>10</td>\n",
       "    </tr>\n",
       "    <tr>\n",
       "      <th>4</th>\n",
       "      <td>I</td>\n",
       "      <td>0.330</td>\n",
       "      <td>0.255</td>\n",
       "      <td>0.080</td>\n",
       "      <td>0.2050</td>\n",
       "      <td>0.0895</td>\n",
       "      <td>0.0395</td>\n",
       "      <td>0.055</td>\n",
       "      <td>7</td>\n",
       "    </tr>\n",
       "  </tbody>\n",
       "</table>\n",
       "</div>"
      ],
      "text/plain": [
       "  sex  length  diameter  height  allweight    skin  iweght  shell  age\n",
       "0   M   0.455     0.365   0.095     0.5140  0.2245  0.1010  0.150   15\n",
       "1   M   0.350     0.265   0.090     0.2255  0.0995  0.0485  0.070    7\n",
       "2   F   0.530     0.420   0.135     0.6770  0.2565  0.1415  0.210    9\n",
       "3   M   0.440     0.365   0.125     0.5160  0.2155  0.1140  0.155   10\n",
       "4   I   0.330     0.255   0.080     0.2050  0.0895  0.0395  0.055    7"
      ]
     },
     "execution_count": 2,
     "metadata": {},
     "output_type": "execute_result"
    }
   ],
   "source": [
    "#读取数据\n",
    "colnames = ['sex']+['length']+['diameter']+['height']+['allweight']+['skin']+['iweght']+['shell']+['age']\n",
    "print_data = pd.read_csv('/home/aistudio/data/data1343/data.txt',names = colnames) #dataframe\n",
    "print_data.head()"
   ]
  },
  {
   "cell_type": "code",
   "execution_count": 3,
   "metadata": {},
   "outputs": [],
   "source": [
    "it=print_data['age'].unique()"
   ]
  },
  {
   "cell_type": "code",
   "execution_count": 4,
   "metadata": {},
   "outputs": [],
   "source": [
    "#查看数据信息\n",
    "#print_data.info()"
   ]
  },
  {
   "cell_type": "code",
   "execution_count": 5,
   "metadata": {},
   "outputs": [],
   "source": [
    "df=print_data['sex']\n",
    "# df=df.replace('M',001).replace('F',010).replace('I',100)  ###设为0，是否相当于抵消了该特征的影响？？\n",
    "df=df.replace('M',4).replace('F',2).replace('I',1)\n",
    "print_data['sex']=df"
   ]
  },
  {
   "cell_type": "code",
   "execution_count": 6,
   "metadata": {},
   "outputs": [],
   "source": [
    "#转化为矩阵格式，方便后续处理\n",
    "global train_data,test_data\n",
    "data=print_data.values  #矩阵格式\n",
    "\n",
    "# ratio = 0.8 #分割的训练集部分\n",
    "# offset = int(data.shape[0]*ratio)\n",
    "# test_data2 = data[offset:].copy()\n",
    "'''\n",
    "上面三行目的是创建出一个测试集标签不变的数组\n",
    "'''\n",
    "\n",
    "#取得每一列的最大值最小值平均值\n",
    "maximums,minimums,avgs = data.max(axis=0),data.min(axis=0),data.sum(axis=0)/data.shape[0]\n",
    "\n",
    "#归一化\n",
    "feature_num = 9\n",
    "# for i in range(1,feature_num-1):\n",
    "for i in range(1,feature_num-1):\n",
    "    #data[:,i] = #####\n",
    "    data[:,i] = (data[:,i]-avgs[i])/(maximums[i]-minimums[i])\n",
    "### END CODE HERE ###\n",
    "\n",
    "# print 'normalization:',data[:,1].max(axis = 0) 检验效果"
   ]
  },
  {
   "cell_type": "code",
   "execution_count": 7,
   "metadata": {},
   "outputs": [],
   "source": [
    "# data"
   ]
  },
  {
   "cell_type": "markdown",
   "metadata": {},
   "source": [
    "<h3>&nbsp;&nbsp;&nbsp;&nbsp;&nbsp;&nbsp;&nbsp;&nbsp;&nbsp;&nbsp;数据集分割</h3>"
   ]
  },
  {
   "cell_type": "code",
   "execution_count": 8,
   "metadata": {},
   "outputs": [
    {
     "name": "stdout",
     "output_type": "stream",
     "text": [
      "4177\n",
      "3341\n"
     ]
    }
   ],
   "source": [
    "ratio = 0.8 #分割的训练集部分\n",
    "offset = int(data.shape[0]*ratio)\n",
    "\n",
    "train_data = data[:offset].copy()\n",
    "\n",
    "test_data = data[offset:].copy()\n",
    "print(len(data))\n",
    "print(len(train_data))"
   ]
  },
  {
   "cell_type": "markdown",
   "metadata": {},
   "source": [
    "<h2>定义reader</h2>"
   ]
  },
  {
   "cell_type": "code",
   "execution_count": 9,
   "metadata": {},
   "outputs": [],
   "source": [
    "def read_data(data_set):\n",
    "    def reader():    \n",
    "        for dataa in data_set:\n",
    "            yield dataa[:-1],dataa[-1:]\n",
    "    return reader"
   ]
  },
  {
   "cell_type": "code",
   "execution_count": 10,
   "metadata": {},
   "outputs": [],
   "source": [
    "def train():\n",
    "    global train_data\n",
    "    return read_data(train_data)\n",
    "\n",
    "def test():\n",
    "    global test_data\n",
    "    return read_data(test_data)\n",
    "#测试正确"
   ]
  },
  {
   "cell_type": "markdown",
   "metadata": {},
   "source": [
    "<h2>训练过程</h2>"
   ]
  },
  {
   "cell_type": "code",
   "execution_count": 11,
   "metadata": {},
   "outputs": [],
   "source": [
    "#定义运算场所\n",
    "#使用CPU训练\n",
    "use_cuda = False\n",
    "place = fluid.CUDAPlace(0) if use_cuda else fluid.CPUPlace()"
   ]
  },
  {
   "cell_type": "code",
   "execution_count": 12,
   "metadata": {},
   "outputs": [],
   "source": [
    "def train_program():\n",
    "\n",
    "    x = fluid.layers.data(name=\"x\",shape=[8],dtype=\"float32\")\n",
    "    \n",
    "    ####   改进的话，y的类型要变为int64\n",
    "    \n",
    "    ### y = fluid.layers.data(name=\"y\",shape=[1],dtype=\"float32\") \n",
    "    y=fluid.layers.data(name=\"y\",shape=[1],dtype='float32')\n",
    "    \n",
    "    h1=fluid.layers.fc(input=x,size=16,act=None)\n",
    "    h2=fluid.layers.fc(input=h1,size=16,act=\"relu\")\n",
    "    h3=fluid.layers.fc(input=h2,size=8,act=\"relu\")\n",
    "    ###增加网络层数，则下面也需要变化\n",
    "    \n",
    "    y_predict = fluid.layers.fc(input=h3,size=1,act=None)\n",
    "    #size表示输出结果的个数，回归问题一般只有一个结果\n",
    "    loss = fluid.layers.square_error_cost(input=y_predict,label=y)\n",
    "    avg_loss = fluid.layers.mean(loss)\n",
    "    \n",
    "    return avg_loss"
   ]
  },
  {
   "cell_type": "code",
   "execution_count": 13,
   "metadata": {},
   "outputs": [],
   "source": [
    "# 创建optimizer，更多优化算子可以参考 fluid.optimizer()\n",
    "def optimizer_program():\n",
    "    \n",
    "    lr=0.001\n",
    "    sgd_optimizer=fluid.optimizer.SGD(learning_rate=lr)\n",
    "#     mom_optimizer=fluid.optimizer.Momentum(learning_rate=lr)\n",
    "    return sgd_optimizer\n",
    "\n",
    "    #minixise已经被集成了"
   ]
  },
  {
   "cell_type": "code",
   "execution_count": 14,
   "metadata": {},
   "outputs": [],
   "source": [
    "# 数据层和数组索引映射，用于trainer训练时喂数据\n",
    "feed_order=['x', 'y']\n",
    "# 保存模型\n",
    "params_dirname = \"easy_fit_a_line.inference.model\"\n",
    "\n",
    "# Plot data\n",
    "from paddle.v2.plot import Ploter\n",
    "train_title = \"Train cost\"\n",
    "test_title = \"Test cost\"\n",
    "plot_cost = Ploter(train_title, test_title)\n",
    "\n",
    "step = 0\n",
    "\n",
    "# 事件处理\n",
    "def event_handler_plot(event):\n",
    "    global step\n",
    "    if isinstance(event, fluid.EndStepEvent):\n",
    "        if event.step % 10 == 0:\n",
    "            plot_cost.append(train_title, step, event.metrics[0])\n",
    "            plot_cost.plot()\n",
    "        if event.step % 100 == 0: # 每10个batch,记录cost\n",
    "            test_metrics = trainer.test(\n",
    "            reader=test_reader, feed_order=feed_order)\n",
    "\n",
    "            plot_cost.append(test_title, step, test_metrics[0])\n",
    "            plot_cost.plot()\n",
    "\n",
    "#             if test_metrics[0] < 1.0:\n",
    "#                 # 如果准确率达到阈值，则停止训练\n",
    "#                 print('loss is less than 0.00001, stop')\n",
    "#                 trainer.stop()\n",
    "\n",
    "        # 将参数存储，用于预测使用\n",
    "        if params_dirname is not None:\n",
    "            trainer.save_params(params_dirname)\n",
    "\n",
    "    step += 1"
   ]
  },
  {
   "cell_type": "code",
   "execution_count": 15,
   "metadata": {},
   "outputs": [],
   "source": [
    "BATCH_SIZE = 256  #\n",
    "\n",
    "# 设置训练reader\n",
    "train_reader = paddle.batch(\n",
    "paddle.reader.shuffle(\n",
    "    train(), buf_size=5000),\n",
    "    batch_size=BATCH_SIZE)\n",
    "\n",
    "#设置测试reader\n",
    "test_reader = paddle.batch(\n",
    "paddle.reader.shuffle(\n",
    "    test(), buf_size=5000),\n",
    "batch_size=BATCH_SIZE)"
   ]
  },
  {
   "cell_type": "code",
   "execution_count": 16,
   "metadata": {},
   "outputs": [],
   "source": [
    "trainer = fluid.Trainer(\n",
    "    train_func=train_program,\n",
    "    place=place,\n",
    "    optimizer_func=optimizer_program)"
   ]
  },
  {
   "cell_type": "code",
   "execution_count": 17,
   "metadata": {},
   "outputs": [
    {
     "data": {
      "image/png": "[encoded data removed]",
      "text/plain": [
       "<Figure size 432x288 with 1 Axes>"
      ]
     },
     "metadata": {},
     "output_type": "display_data"
    },
    {
     "data": {
      "text/plain": [
       "<Figure size 432x288 with 0 Axes>"
      ]
     },
     "metadata": {},
     "output_type": "display_data"
    }
   ],
   "source": [
    "trainer.train(\n",
    "    reader=train_reader,  #数据\n",
    "    num_epochs=15,   #迭代次数\n",
    "    event_handler=event_handler_plot,\n",
    "    feed_order=feed_order)  #喂的格式"
   ]
  },
  {
   "cell_type": "markdown",
   "metadata": {},
   "source": [
    "<h2>预测</h2>"
   ]
  },
  {
   "cell_type": "code",
   "execution_count": 18,
   "metadata": {},
   "outputs": [],
   "source": [
    "def inference_program():\n",
    "    x = fluid.layers.data(name='x', shape=[8], dtype='float32')\n",
    "    h1=fluid.layers.fc(input=x,size=16,act=None)\n",
    "    h2=fluid.layers.fc(input=h1,size=16,act=\"relu\")\n",
    "    h3=fluid.layers.fc(input=h2,size=8,act=\"relu\")\n",
    "    y_predict = fluid.layers.fc(input=h3, size=1, act=None)\n",
    "    return y_predict"
   ]
  },
  {
   "cell_type": "code",
   "execution_count": 19,
   "metadata": {},
   "outputs": [],
   "source": [
    "inferencer = fluid.Inferencer(\n",
    "infer_func=inference_program, param_path=params_dirname, place=place)\n",
    "\n",
    "# BATCH_SIZE = 10\n",
    "# test_readerr = paddle.batch(\n",
    "#     read_data(test_data), batch_size=BATCH_SIZE\n",
    "# )\n",
    "\n",
    "# 取出一个 mini-batch\n",
    "for mini_batch in test_reader(): \n",
    "    # 转化为 numpy 的 ndarray 结构，并且设置数据类型\n",
    "    test_x = np.array([data[:-1] for data in mini_batch]).astype(\"float32\")\n",
    "    test_y = np.array([data[-1] for data in mini_batch]).astype(\"float32\")\n",
    "    # 真实进行预测\n",
    "    mini_batch_result = inferencer.infer({'x': test_x})\n",
    "    tmp=len(mini_batch_result[0])\n",
    "#     print(tmp)\n",
    "#     print('true预测结果：%s'%mini_batch_result)\n",
    "    for i in xrange(tmp):\n",
    "        mini_batch_result[0][i]=round(mini_batch_result[0][i])\n",
    "#         mini_batch_result[0][i]=round((mini_batch_result[0][i])*((maximums[feature_num-1]-minimums[feature_num-1]))+avgs[feature_num-1])\n",
    "#         print((mini_batch_result[0][0]))\n",
    "#     print('预测结果：%s'%mini_batch_result)\n",
    "    \n",
    "    # 打印真实结果    \n",
    "#     label = np.array(test_y*((maximums[feature_num-1]-minimums[feature_num-1]))+avgs[feature_num-1]) # 转化为 label\n",
    "    label = np.array(test_y)\n",
    "#     print('真实结果：%s'%label)\n",
    "    break    "
   ]
  },
  {
   "cell_type": "code",
   "execution_count": 20,
   "metadata": {},
   "outputs": [],
   "source": [
    "def right_ratio(right_counter, total):\n",
    "    ratio = float(right_counter)/total\n",
    "    return ratio"
   ]
  },
  {
   "cell_type": "code",
   "execution_count": 21,
   "metadata": {},
   "outputs": [],
   "source": [
    "aa=0"
   ]
  },
  {
   "cell_type": "code",
   "execution_count": 22,
   "metadata": {},
   "outputs": [],
   "source": [
    "# 评估函数 data_set 是一个reader\n",
    "def evl(data_set):\n",
    "    total = 0    #操作的元素的总数\n",
    "    right_counter = 0  #正确的元素\n",
    "\n",
    "    pass_num = 0\n",
    "#     print(liruoyi)\n",
    "    for mini_batch in data_set():\n",
    "        pass_num += 1\n",
    "        #预测\n",
    "        test_x = np.array([data[:-1] for data in mini_batch]).astype(\"float32\")\n",
    "        test_y = np.array([data[-1] for data in mini_batch]).astype(\"float32\")\n",
    "        \n",
    "        mini_batch_result = inferencer.infer({'x': test_x})\n",
    "        tmp=len(mini_batch_result[0])\n",
    "        for i in xrange(tmp):\n",
    "            mini_batch_result[0][i]=round(mini_batch_result[0][i])\n",
    "#             mini_batch_result[0][i]=round((mini_batch_result[0][i])*((maximums[feature_num-1]-minimums[feature_num-1]))+avgs[feature_num-1])\n",
    "        \n",
    "#         label = np.array(test_y*((maximums[feature_num-1]-minimums[feature_num-1]))+avgs[feature_num-1]) # 转化为 label\n",
    "        label = np.array(test_y)\n",
    "        #计数\n",
    "        label_len = len(label)\n",
    "        total += label_len\n",
    "        for i in xrange(label_len):\n",
    "#             global aa\n",
    "#             aa += 1\n",
    "            if mini_batch_result[0][i] == label[i]:\n",
    "                right_counter += 1\n",
    "#     print(right_counter)\n",
    "#     print(total)\n",
    "    ratio = right_ratio(right_counter, total)\n",
    "    return ratio"
   ]
  },
  {
   "cell_type": "code",
   "execution_count": 23,
   "metadata": {},
   "outputs": [
    {
     "name": "stdout",
     "output_type": "stream",
     "text": [
      "训练数据的正确率 16.80%\n",
      "预测数据的正确率 18.62%\n"
     ]
    }
   ],
   "source": [
    "ratio = evl(train_reader)\n",
    "print('训练数据的正确率 %0.2f%%'%(ratio*100))\n",
    "\n",
    "ratio = evl(test_reader)\n",
    "print('预测数据的正确率 %0.2f%%'%(ratio*100))"
   ]
  },
  {
   "cell_type": "markdown",
   "metadata": {},
   "source": [
    "lr=0.001 bound=10 net=1 epoch=5 bs=20 trainright=0.15 testright=0.19<br/>\n",
    "0.001 10 1 5 32 0.0622 0.0769  <br/>\n",
    "0.001 10 1 50 32 0.1547 0.1575<br/>\n",
    "0.001 5 1 50 32 0.1436 0.1442 而且测试曲线后面趋于平缓不动<br/>\n",
    "0.001 5 1 25 64 0.1866 0.1947 <br/>\n",
    "0.001 5 2 15 64 0.1647 0.1623<br/>\n",
    "0.001 5 2 15 64 0.159 0.1875<br/>\n",
    "0.001 5 3 15 256 0.1659 0.1784 趋于平缓<br/>\n",
    "0.001 1 3 15 256 0.1704 0.2083<br/>\n",
    "0.001 1 4 15 256 0.1581 0.1784<br/>"
   ]
  },
  {
   "cell_type": "markdown",
   "metadata": {},
   "source": [
    "batch_size怎么选，选多大比较合适<br/>\n",
    "每一层几个神经元"
   ]
  },
  {
   "cell_type": "code",
   "execution_count": null,
   "metadata": {},
   "outputs": [],
   "source": []
  }
 ],
 "metadata": {
  "kernelspec": {
   "display_name": "Python2.7",
   "language": "python",
   "name": "paddle0.12"
  },
  "language_info": {
   "codemirror_mode": {
    "name": "ipython",
    "version": 2
   },
   "file_extension": ".py",
   "mimetype": "text/x-python",
   "name": "python",
   "nbconvert_exporter": "python",
   "pygments_lexer": "ipython2",
   "version": "2.7.15"
  }
 },
 "nbformat": 4,
 "nbformat_minor": 2
}
